{
  "nbformat": 4,
  "nbformat_minor": 0,
  "metadata": {
    "colab": {
      "name": "Supervised Learning Task.ipynb",
      "provenance": [],
      "collapsed_sections": []
    },
    "kernelspec": {
      "name": "python3",
      "display_name": "Python 3"
    }
  },
  "cells": [
    {
      "cell_type": "markdown",
      "metadata": {
        "id": "F5V8JgeQudnd",
        "colab_type": "text"
      },
      "source": [
        "Problem Statement: Predicting marks a student can score based on no. of  hours of study\n"
      ]
    },
    {
      "cell_type": "markdown",
      "metadata": {
        "id": "a6jFZw3H16h3",
        "colab_type": "text"
      },
      "source": [
        "Approach: We're going to use Supervised Learning technique to train various predictive models in the process in order to get most optimised output!"
      ]
    },
    {
      "cell_type": "markdown",
      "metadata": {
        "id": "zVfOxlQJ2SPn",
        "colab_type": "text"
      },
      "source": [
        "*It's always best to decide/plan the further process after having an overview of the provided Dataset. Let's do the same :)*"
      ]
    },
    {
      "cell_type": "markdown",
      "metadata": {
        "id": "4DnNaf4m1wQL",
        "colab_type": "text"
      },
      "source": [
        "# **Importing Relevant Libraries**"
      ]
    },
    {
      "cell_type": "code",
      "metadata": {
        "id": "RV2tKuHPj4q8",
        "colab_type": "code",
        "colab": {}
      },
      "source": [
        "import numpy as np\n",
        "import pandas as pd\n",
        "import matplotlib.pyplot as plt\n",
        "import seaborn as sns\n",
        "%matplotlib inline"
      ],
      "execution_count": 212,
      "outputs": []
    },
    {
      "cell_type": "markdown",
      "metadata": {
        "id": "O-UBwzx416NI",
        "colab_type": "text"
      },
      "source": [
        "# **Loading Provided Dataset**"
      ]
    },
    {
      "cell_type": "code",
      "metadata": {
        "id": "omyg6B3XkazR",
        "colab_type": "code",
        "colab": {}
      },
      "source": [
        "path=\"http://bit.ly/w-data\"\n",
        "data=pd.read_csv(path)"
      ],
      "execution_count": 213,
      "outputs": []
    },
    {
      "cell_type": "markdown",
      "metadata": {
        "id": "2uGrOgDW2BJE",
        "colab_type": "text"
      },
      "source": [
        "# **Overview of Dataset**"
      ]
    },
    {
      "cell_type": "code",
      "metadata": {
        "id": "7H2oypDykqXv",
        "colab_type": "code",
        "colab": {
          "base_uri": "https://localhost:8080/",
          "height": 204
        },
        "outputId": "7cb883e4-be4f-4bbe-9d91-8e2682c87d6a"
      },
      "source": [
        "data.head()"
      ],
      "execution_count": 214,
      "outputs": [
        {
          "output_type": "execute_result",
          "data": {
            "text/html": [
              "<div>\n",
              "<style scoped>\n",
              "    .dataframe tbody tr th:only-of-type {\n",
              "        vertical-align: middle;\n",
              "    }\n",
              "\n",
              "    .dataframe tbody tr th {\n",
              "        vertical-align: top;\n",
              "    }\n",
              "\n",
              "    .dataframe thead th {\n",
              "        text-align: right;\n",
              "    }\n",
              "</style>\n",
              "<table border=\"1\" class=\"dataframe\">\n",
              "  <thead>\n",
              "    <tr style=\"text-align: right;\">\n",
              "      <th></th>\n",
              "      <th>Hours</th>\n",
              "      <th>Scores</th>\n",
              "    </tr>\n",
              "  </thead>\n",
              "  <tbody>\n",
              "    <tr>\n",
              "      <th>0</th>\n",
              "      <td>2.5</td>\n",
              "      <td>21</td>\n",
              "    </tr>\n",
              "    <tr>\n",
              "      <th>1</th>\n",
              "      <td>5.1</td>\n",
              "      <td>47</td>\n",
              "    </tr>\n",
              "    <tr>\n",
              "      <th>2</th>\n",
              "      <td>3.2</td>\n",
              "      <td>27</td>\n",
              "    </tr>\n",
              "    <tr>\n",
              "      <th>3</th>\n",
              "      <td>8.5</td>\n",
              "      <td>75</td>\n",
              "    </tr>\n",
              "    <tr>\n",
              "      <th>4</th>\n",
              "      <td>3.5</td>\n",
              "      <td>30</td>\n",
              "    </tr>\n",
              "  </tbody>\n",
              "</table>\n",
              "</div>"
            ],
            "text/plain": [
              "   Hours  Scores\n",
              "0    2.5      21\n",
              "1    5.1      47\n",
              "2    3.2      27\n",
              "3    8.5      75\n",
              "4    3.5      30"
            ]
          },
          "metadata": {
            "tags": []
          },
          "execution_count": 214
        }
      ]
    },
    {
      "cell_type": "markdown",
      "metadata": {
        "id": "eqGQ-V6C2NUT",
        "colab_type": "text"
      },
      "source": [
        "# **Checking information like shape, data-types of elements and memory usage by the provided dataset**"
      ]
    },
    {
      "cell_type": "code",
      "metadata": {
        "id": "kExAzZOjkyX_",
        "colab_type": "code",
        "colab": {
          "base_uri": "https://localhost:8080/",
          "height": 170
        },
        "outputId": "b9edfbaa-c451-4613-8f33-e680142802fe"
      },
      "source": [
        "data.info()"
      ],
      "execution_count": 215,
      "outputs": [
        {
          "output_type": "stream",
          "text": [
            "<class 'pandas.core.frame.DataFrame'>\n",
            "RangeIndex: 25 entries, 0 to 24\n",
            "Data columns (total 2 columns):\n",
            " #   Column  Non-Null Count  Dtype  \n",
            "---  ------  --------------  -----  \n",
            " 0   Hours   25 non-null     float64\n",
            " 1   Scores  25 non-null     int64  \n",
            "dtypes: float64(1), int64(1)\n",
            "memory usage: 528.0 bytes\n"
          ],
          "name": "stdout"
        }
      ]
    },
    {
      "cell_type": "markdown",
      "metadata": {
        "id": "Vox9wtfF2hCL",
        "colab_type": "text"
      },
      "source": [
        "# **Checking for Null/NaN entries**"
      ]
    },
    {
      "cell_type": "code",
      "metadata": {
        "id": "fEpstbbqk2kh",
        "colab_type": "code",
        "colab": {
          "base_uri": "https://localhost:8080/",
          "height": 68
        },
        "outputId": "3d17f27c-8ad7-40f4-ae55-d67cc1f37730"
      },
      "source": [
        "data.isnull().sum()"
      ],
      "execution_count": 216,
      "outputs": [
        {
          "output_type": "execute_result",
          "data": {
            "text/plain": [
              "Hours     0\n",
              "Scores    0\n",
              "dtype: int64"
            ]
          },
          "metadata": {
            "tags": []
          },
          "execution_count": 216
        }
      ]
    },
    {
      "cell_type": "markdown",
      "metadata": {
        "id": "ZFy-rNozv-GO",
        "colab_type": "text"
      },
      "source": [
        "# **Checking the range of values across various parameters in the given dataset.**"
      ]
    },
    {
      "cell_type": "code",
      "metadata": {
        "id": "KwvcG1QWk7SK",
        "colab_type": "code",
        "colab": {
          "base_uri": "https://localhost:8080/",
          "height": 297
        },
        "outputId": "7eb2495c-9ae6-438a-cdf4-de326d24a027"
      },
      "source": [
        "data.describe()"
      ],
      "execution_count": 217,
      "outputs": [
        {
          "output_type": "execute_result",
          "data": {
            "text/html": [
              "<div>\n",
              "<style scoped>\n",
              "    .dataframe tbody tr th:only-of-type {\n",
              "        vertical-align: middle;\n",
              "    }\n",
              "\n",
              "    .dataframe tbody tr th {\n",
              "        vertical-align: top;\n",
              "    }\n",
              "\n",
              "    .dataframe thead th {\n",
              "        text-align: right;\n",
              "    }\n",
              "</style>\n",
              "<table border=\"1\" class=\"dataframe\">\n",
              "  <thead>\n",
              "    <tr style=\"text-align: right;\">\n",
              "      <th></th>\n",
              "      <th>Hours</th>\n",
              "      <th>Scores</th>\n",
              "    </tr>\n",
              "  </thead>\n",
              "  <tbody>\n",
              "    <tr>\n",
              "      <th>count</th>\n",
              "      <td>25.000000</td>\n",
              "      <td>25.000000</td>\n",
              "    </tr>\n",
              "    <tr>\n",
              "      <th>mean</th>\n",
              "      <td>5.012000</td>\n",
              "      <td>51.480000</td>\n",
              "    </tr>\n",
              "    <tr>\n",
              "      <th>std</th>\n",
              "      <td>2.525094</td>\n",
              "      <td>25.286887</td>\n",
              "    </tr>\n",
              "    <tr>\n",
              "      <th>min</th>\n",
              "      <td>1.100000</td>\n",
              "      <td>17.000000</td>\n",
              "    </tr>\n",
              "    <tr>\n",
              "      <th>25%</th>\n",
              "      <td>2.700000</td>\n",
              "      <td>30.000000</td>\n",
              "    </tr>\n",
              "    <tr>\n",
              "      <th>50%</th>\n",
              "      <td>4.800000</td>\n",
              "      <td>47.000000</td>\n",
              "    </tr>\n",
              "    <tr>\n",
              "      <th>75%</th>\n",
              "      <td>7.400000</td>\n",
              "      <td>75.000000</td>\n",
              "    </tr>\n",
              "    <tr>\n",
              "      <th>max</th>\n",
              "      <td>9.200000</td>\n",
              "      <td>95.000000</td>\n",
              "    </tr>\n",
              "  </tbody>\n",
              "</table>\n",
              "</div>"
            ],
            "text/plain": [
              "           Hours     Scores\n",
              "count  25.000000  25.000000\n",
              "mean    5.012000  51.480000\n",
              "std     2.525094  25.286887\n",
              "min     1.100000  17.000000\n",
              "25%     2.700000  30.000000\n",
              "50%     4.800000  47.000000\n",
              "75%     7.400000  75.000000\n",
              "max     9.200000  95.000000"
            ]
          },
          "metadata": {
            "tags": []
          },
          "execution_count": 217
        }
      ]
    },
    {
      "cell_type": "markdown",
      "metadata": {
        "id": "TnDmyKzKDjqd",
        "colab_type": "text"
      },
      "source": [
        "# **Visualizing Distribution of variables in the Dataset:**"
      ]
    },
    {
      "cell_type": "code",
      "metadata": {
        "id": "2QFa905LDzcr",
        "colab_type": "code",
        "colab": {
          "base_uri": "https://localhost:8080/",
          "height": 530
        },
        "outputId": "08732e47-2fa1-4e1d-8398-ce106142f531"
      },
      "source": [
        "graph=plt.figure(figsize=(15,8))\n",
        "g1=graph.add_subplot(121)\n",
        "g2=graph.add_subplot(122)\n",
        "g1.set_title('Hours Distribution')\n",
        "g2.set_title('Scores Distribution')\n",
        "p1=sns.distplot(data['Hours'],label='Hours',ax=g1,color='orange')\n",
        "p2=sns.distplot(data['Scores'],label='Scores',ax=g2,color='seagreen')\n",
        "p1.legend()\n",
        "p2.legend()"
      ],
      "execution_count": 218,
      "outputs": [
        {
          "output_type": "execute_result",
          "data": {
            "text/plain": [
              "<matplotlib.legend.Legend at 0x7f351357dac8>"
            ]
          },
          "metadata": {
            "tags": []
          },
          "execution_count": 218
        },
        {
          "output_type": "display_data",
          "data": {
            "image/png": "[encoded data removed]",
            "text/plain": [
              "<Figure size 1080x576 with 2 Axes>"
            ]
          },
          "metadata": {
            "tags": [],
            "needs_background": "light"
          }
        }
      ]
    },
    {
      "cell_type": "markdown",
      "metadata": {
        "id": "Cg7hyoAB2mem",
        "colab_type": "text"
      },
      "source": [
        "# **Visualizing Relationship between the variables:**\n",
        "\n",
        "\n",
        "\n"
      ]
    },
    {
      "cell_type": "code",
      "metadata": {
        "id": "Q0DQcRfvmudU",
        "colab_type": "code",
        "colab": {
          "base_uri": "https://localhost:8080/",
          "height": 296
        },
        "outputId": "3bac3ccc-1125-4b6c-b0bc-8ed4b9dec98a"
      },
      "source": [
        "sns.regplot(x=data['Hours'],y=data['Scores'],color='g')"
      ],
      "execution_count": 219,
      "outputs": [
        {
          "output_type": "execute_result",
          "data": {
            "text/plain": [
              "<matplotlib.axes._subplots.AxesSubplot at 0x7f35135115c0>"
            ]
          },
          "metadata": {
            "tags": []
          },
          "execution_count": 219
        },
        {
          "output_type": "display_data",
          "data": {
            "image/png": "[encoded data removed]",
            "text/plain": [
              "<Figure size 432x288 with 1 Axes>"
            ]
          },
          "metadata": {
            "tags": [],
            "needs_background": "light"
          }
        }
      ]
    },
    {
      "cell_type": "code",
      "metadata": {
        "id": "5KlXDgQzJTP5",
        "colab_type": "code",
        "colab": {
          "base_uri": "https://localhost:8080/",
          "height": 286
        },
        "outputId": "d4825bd0-cc29-40b5-c93f-28f6a37a7ab5"
      },
      "source": [
        "corr=data.corr()\n",
        "sns.heatmap(corr)"
      ],
      "execution_count": 220,
      "outputs": [
        {
          "output_type": "execute_result",
          "data": {
            "text/plain": [
              "<matplotlib.axes._subplots.AxesSubplot at 0x7f35134d50b8>"
            ]
          },
          "metadata": {
            "tags": []
          },
          "execution_count": 220
        },
        {
          "output_type": "display_data",
          "data": {
            "image/png": "[encoded data removed]",
            "text/plain": [
              "<Figure size 432x288 with 2 Axes>"
            ]
          },
          "metadata": {
            "tags": [],
            "needs_background": "light"
          }
        }
      ]
    },
    {
      "cell_type": "markdown",
      "metadata": {
        "id": "wnSHMrQQwN-B",
        "colab_type": "text"
      },
      "source": [
        "*We can clearly see there's a strong positive relationship between Scores & Hours.*"
      ]
    },
    {
      "cell_type": "markdown",
      "metadata": {
        "id": "4AaLMMdOwZle",
        "colab_type": "text"
      },
      "source": [
        "# **Fxing The Target Variable & Segregating It From Independent Variables In The Dataset.**"
      ]
    },
    {
      "cell_type": "code",
      "metadata": {
        "id": "vKFuRjGslYNU",
        "colab_type": "code",
        "colab": {}
      },
      "source": [
        "X = data.iloc[:, :-1]\n",
        "y=data.iloc[:, 1]"
      ],
      "execution_count": 221,
      "outputs": []
    },
    {
      "cell_type": "markdown",
      "metadata": {
        "id": "pi4v2O4owlw7",
        "colab_type": "text"
      },
      "source": [
        "# **Splitting The Dataset Into Training Set & Validation Set**"
      ]
    },
    {
      "cell_type": "code",
      "metadata": {
        "id": "Tx_TiKm-mjdC",
        "colab_type": "code",
        "colab": {}
      },
      "source": [
        "from sklearn.model_selection import train_test_split\n",
        "\n",
        "X_train,X_valid,y_train,y_valid=train_test_split(X,y,train_size=0.8,test_size=0.2,random_state=0)"
      ],
      "execution_count": 222,
      "outputs": []
    },
    {
      "cell_type": "markdown",
      "metadata": {
        "id": "ORY8SyDN0VQj",
        "colab_type": "text"
      },
      "source": [
        "# **1. Using Linear Regression Model**"
      ]
    },
    {
      "cell_type": "code",
      "metadata": {
        "id": "QqoIuy3cpWGT",
        "colab_type": "code",
        "colab": {
          "base_uri": "https://localhost:8080/",
          "height": 34
        },
        "outputId": "23e9b409-dfff-4f6e-a4f2-8d74ee76c0c3"
      },
      "source": [
        "from sklearn.linear_model import LinearRegression\n",
        "\n",
        "model1=LinearRegression()\n",
        "model1.fit(X_train,y_train)"
      ],
      "execution_count": 223,
      "outputs": [
        {
          "output_type": "execute_result",
          "data": {
            "text/plain": [
              "LinearRegression(copy_X=True, fit_intercept=True, n_jobs=None, normalize=False)"
            ]
          },
          "metadata": {
            "tags": []
          },
          "execution_count": 223
        }
      ]
    },
    {
      "cell_type": "markdown",
      "metadata": {
        "id": "96dQ7xyZ0ks4",
        "colab_type": "text"
      },
      "source": [
        "# **Making predictions using Model 1:**"
      ]
    },
    {
      "cell_type": "code",
      "metadata": {
        "id": "sGGlLtWXpw3G",
        "colab_type": "code",
        "colab": {
          "base_uri": "https://localhost:8080/",
          "height": 34
        },
        "outputId": "d1f76028-b6a7-431f-a876-0b65da17ddd0"
      },
      "source": [
        "predictions1=model1.predict(X_valid)\n",
        "predictions1"
      ],
      "execution_count": 224,
      "outputs": [
        {
          "output_type": "execute_result",
          "data": {
            "text/plain": [
              "array([16.88414476, 33.73226078, 75.357018  , 26.79480124, 60.49103328])"
            ]
          },
          "metadata": {
            "tags": []
          },
          "execution_count": 224
        }
      ]
    },
    {
      "cell_type": "markdown",
      "metadata": {
        "id": "yjtUOODv0v3K",
        "colab_type": "text"
      },
      "source": [
        "# **Evaluating The Model 1 Accuracy Using Mean Absolute Error:**"
      ]
    },
    {
      "cell_type": "code",
      "metadata": {
        "id": "DqxZjNtFp7GX",
        "colab_type": "code",
        "colab": {
          "base_uri": "https://localhost:8080/",
          "height": 51
        },
        "outputId": "80eabb45-8cae-463e-e308-837ec396e23a"
      },
      "source": [
        "from sklearn.metrics import mean_absolute_error,mean_squared_error\n",
        "\n",
        "MAE1=mean_absolute_error(predictions1,y_valid)\n",
        "RMSE1=np.sqrt(mean_squared_error(y_valid,predictions1))\n",
        "print('Mean Absolute error in Model 1:',MAE1.round(2))\n",
        "print('Root Mean Squared Error in Model 1:',RMSE1.round(2))"
      ],
      "execution_count": 225,
      "outputs": [
        {
          "output_type": "stream",
          "text": [
            "Mean Absolute error in Model 1: 4.18\n",
            "Root Mean Squared Error in Model 1: 4.65\n"
          ],
          "name": "stdout"
        }
      ]
    },
    {
      "cell_type": "markdown",
      "metadata": {
        "id": "p7m4es-d1zhH",
        "colab_type": "text"
      },
      "source": [
        "# **Comparing The Actual v/s Predicted Values for Model 1:**"
      ]
    },
    {
      "cell_type": "code",
      "metadata": {
        "id": "1k3TQHsEqKKD",
        "colab_type": "code",
        "colab": {
          "base_uri": "https://localhost:8080/",
          "height": 204
        },
        "outputId": "8ed20277-b773-462d-a37a-9609108d3066"
      },
      "source": [
        "check=pd.DataFrame({'Actual':y_valid})\n",
        "check.reset_index(drop=True,inplace=True)\n",
        "check['Predicted']=predictions1\n",
        "check['Deviation']=abs(check['Actual']-check['Predicted'])\n",
        "check"
      ],
      "execution_count": 226,
      "outputs": [
        {
          "output_type": "execute_result",
          "data": {
            "text/html": [
              "<div>\n",
              "<style scoped>\n",
              "    .dataframe tbody tr th:only-of-type {\n",
              "        vertical-align: middle;\n",
              "    }\n",
              "\n",
              "    .dataframe tbody tr th {\n",
              "        vertical-align: top;\n",
              "    }\n",
              "\n",
              "    .dataframe thead th {\n",
              "        text-align: right;\n",
              "    }\n",
              "</style>\n",
              "<table border=\"1\" class=\"dataframe\">\n",
              "  <thead>\n",
              "    <tr style=\"text-align: right;\">\n",
              "      <th></th>\n",
              "      <th>Actual</th>\n",
              "      <th>Predicted</th>\n",
              "      <th>Deviation</th>\n",
              "    </tr>\n",
              "  </thead>\n",
              "  <tbody>\n",
              "    <tr>\n",
              "      <th>0</th>\n",
              "      <td>20</td>\n",
              "      <td>16.884145</td>\n",
              "      <td>3.115855</td>\n",
              "    </tr>\n",
              "    <tr>\n",
              "      <th>1</th>\n",
              "      <td>27</td>\n",
              "      <td>33.732261</td>\n",
              "      <td>6.732261</td>\n",
              "    </tr>\n",
              "    <tr>\n",
              "      <th>2</th>\n",
              "      <td>69</td>\n",
              "      <td>75.357018</td>\n",
              "      <td>6.357018</td>\n",
              "    </tr>\n",
              "    <tr>\n",
              "      <th>3</th>\n",
              "      <td>30</td>\n",
              "      <td>26.794801</td>\n",
              "      <td>3.205199</td>\n",
              "    </tr>\n",
              "    <tr>\n",
              "      <th>4</th>\n",
              "      <td>62</td>\n",
              "      <td>60.491033</td>\n",
              "      <td>1.508967</td>\n",
              "    </tr>\n",
              "  </tbody>\n",
              "</table>\n",
              "</div>"
            ],
            "text/plain": [
              "   Actual  Predicted  Deviation\n",
              "0      20  16.884145   3.115855\n",
              "1      27  33.732261   6.732261\n",
              "2      69  75.357018   6.357018\n",
              "3      30  26.794801   3.205199\n",
              "4      62  60.491033   1.508967"
            ]
          },
          "metadata": {
            "tags": []
          },
          "execution_count": 226
        }
      ]
    },
    {
      "cell_type": "markdown",
      "metadata": {
        "id": "H5jnFDsT4zks",
        "colab_type": "text"
      },
      "source": [
        "# **Visulaizing The Deviation in Actual & Predicted Values for Model 1:**"
      ]
    },
    {
      "cell_type": "code",
      "metadata": {
        "id": "v0CMcnbPlKHz",
        "colab_type": "code",
        "colab": {
          "base_uri": "https://localhost:8080/",
          "height": 367
        },
        "outputId": "ad24da3e-74a9-4219-ee10-74334ce5df54"
      },
      "source": [
        "plt.figure(figsize=(8,5))\n",
        "sns.regplot('Predicted','Actual',data=check,line_kws={'color':'green'},scatter_kws={'color':'red'},marker='*')\n",
        "plt.title('Deviation In Actual v/s Predicted Values(Simple Linear Regression)')"
      ],
      "execution_count": 227,
      "outputs": [
        {
          "output_type": "execute_result",
          "data": {
            "text/plain": [
              "Text(0.5, 1.0, 'Deviation In Actual v/s Predicted Values(Simple Linear Regression)')"
            ]
          },
          "metadata": {
            "tags": []
          },
          "execution_count": 227
        },
        {
          "output_type": "display_data",
          "data": {
            "image/png": "[encoded data removed]",
            "text/plain": [
              "<Figure size 576x360 with 1 Axes>"
            ]
          },
          "metadata": {
            "tags": [],
            "needs_background": "light"
          }
        }
      ]
    },
    {
      "cell_type": "markdown",
      "metadata": {
        "id": "i4dR9KIE2CDv",
        "colab_type": "text"
      },
      "source": [
        "# **2. Using Lasso Regularization Model**"
      ]
    },
    {
      "cell_type": "code",
      "metadata": {
        "id": "CpIE5tDFJnJK",
        "colab_type": "code",
        "colab": {
          "base_uri": "https://localhost:8080/",
          "height": 68
        },
        "outputId": "1515ba5e-05e6-4281-f963-28c9c37ded39"
      },
      "source": [
        "from sklearn.linear_model import Lasso\n",
        "model2=Lasso(alpha=1,random_state=0)\n",
        "model2.fit(X_train,y_train)"
      ],
      "execution_count": 228,
      "outputs": [
        {
          "output_type": "execute_result",
          "data": {
            "text/plain": [
              "Lasso(alpha=1, copy_X=True, fit_intercept=True, max_iter=1000, normalize=False,\n",
              "      positive=False, precompute=False, random_state=0, selection='cyclic',\n",
              "      tol=0.0001, warm_start=False)"
            ]
          },
          "metadata": {
            "tags": []
          },
          "execution_count": 228
        }
      ]
    },
    {
      "cell_type": "markdown",
      "metadata": {
        "id": "aCoHP2RU4NyK",
        "colab_type": "text"
      },
      "source": [
        "# **Making Predictions using Model 2:**"
      ]
    },
    {
      "cell_type": "code",
      "metadata": {
        "id": "D7jIzqpsMjuz",
        "colab_type": "code",
        "colab": {
          "base_uri": "https://localhost:8080/",
          "height": 34
        },
        "outputId": "b5013db2-902b-4c60-a4f8-f7cf42eb7930"
      },
      "source": [
        "predictions2=model2.predict(X_valid)\n",
        "predictions2"
      ],
      "execution_count": 229,
      "outputs": [
        {
          "output_type": "execute_result",
          "data": {
            "text/plain": [
              "array([17.48947948, 34.06244335, 75.00741292, 27.23828176, 60.3842095 ])"
            ]
          },
          "metadata": {
            "tags": []
          },
          "execution_count": 229
        }
      ]
    },
    {
      "cell_type": "markdown",
      "metadata": {
        "id": "sLPfKqg84Md4",
        "colab_type": "text"
      },
      "source": [
        "# **Comparing Actual v/s Predicted Values Model 2:**"
      ]
    },
    {
      "cell_type": "code",
      "metadata": {
        "id": "lFBjb-lj1HCS",
        "colab_type": "code",
        "colab": {
          "base_uri": "https://localhost:8080/",
          "height": 204
        },
        "outputId": "4818e9ab-5393-4427-d415-a003a0d12b83"
      },
      "source": [
        "check=pd.DataFrame({'Actual':y_valid,'Predicted':predictions2})\n",
        "check.reset_index(drop=True,inplace=True)\n",
        "check['Deviation']=abs(check['Actual']-check['Predicted'])\n",
        "check"
      ],
      "execution_count": 230,
      "outputs": [
        {
          "output_type": "execute_result",
          "data": {
            "text/html": [
              "<div>\n",
              "<style scoped>\n",
              "    .dataframe tbody tr th:only-of-type {\n",
              "        vertical-align: middle;\n",
              "    }\n",
              "\n",
              "    .dataframe tbody tr th {\n",
              "        vertical-align: top;\n",
              "    }\n",
              "\n",
              "    .dataframe thead th {\n",
              "        text-align: right;\n",
              "    }\n",
              "</style>\n",
              "<table border=\"1\" class=\"dataframe\">\n",
              "  <thead>\n",
              "    <tr style=\"text-align: right;\">\n",
              "      <th></th>\n",
              "      <th>Actual</th>\n",
              "      <th>Predicted</th>\n",
              "      <th>Deviation</th>\n",
              "    </tr>\n",
              "  </thead>\n",
              "  <tbody>\n",
              "    <tr>\n",
              "      <th>0</th>\n",
              "      <td>20</td>\n",
              "      <td>17.489479</td>\n",
              "      <td>2.510521</td>\n",
              "    </tr>\n",
              "    <tr>\n",
              "      <th>1</th>\n",
              "      <td>27</td>\n",
              "      <td>34.062443</td>\n",
              "      <td>7.062443</td>\n",
              "    </tr>\n",
              "    <tr>\n",
              "      <th>2</th>\n",
              "      <td>69</td>\n",
              "      <td>75.007413</td>\n",
              "      <td>6.007413</td>\n",
              "    </tr>\n",
              "    <tr>\n",
              "      <th>3</th>\n",
              "      <td>30</td>\n",
              "      <td>27.238282</td>\n",
              "      <td>2.761718</td>\n",
              "    </tr>\n",
              "    <tr>\n",
              "      <th>4</th>\n",
              "      <td>62</td>\n",
              "      <td>60.384210</td>\n",
              "      <td>1.615790</td>\n",
              "    </tr>\n",
              "  </tbody>\n",
              "</table>\n",
              "</div>"
            ],
            "text/plain": [
              "   Actual  Predicted  Deviation\n",
              "0      20  17.489479   2.510521\n",
              "1      27  34.062443   7.062443\n",
              "2      69  75.007413   6.007413\n",
              "3      30  27.238282   2.761718\n",
              "4      62  60.384210   1.615790"
            ]
          },
          "metadata": {
            "tags": []
          },
          "execution_count": 230
        }
      ]
    },
    {
      "cell_type": "markdown",
      "metadata": {
        "id": "-rf1wU_24rUP",
        "colab_type": "text"
      },
      "source": [
        "# **Evaluating Model 2 Accuracy:**"
      ]
    },
    {
      "cell_type": "code",
      "metadata": {
        "id": "KZgUmeKyPfbM",
        "colab_type": "code",
        "colab": {
          "base_uri": "https://localhost:8080/",
          "height": 51
        },
        "outputId": "d4aeaa50-9f78-45f9-f4ee-66eaf96a50ad"
      },
      "source": [
        "MAE2=mean_absolute_error(predictions2,y_valid)\n",
        "RMSE2=np.sqrt(mean_squared_error(y_valid,predictions2))\n",
        "print('Mean Absolute error in Model 2:',MAE2.round(2))\n",
        "print('Root Mean Squared Error in Model 2:',RMSE2.round(2))\n"
      ],
      "execution_count": 231,
      "outputs": [
        {
          "output_type": "stream",
          "text": [
            "Mean Absolute error in Model 2: 3.99\n",
            "Root Mean Squared Error in Model 2: 4.53\n"
          ],
          "name": "stdout"
        }
      ]
    },
    {
      "cell_type": "markdown",
      "metadata": {
        "id": "iTCY1QfE5Voj",
        "colab_type": "text"
      },
      "source": [
        "# **Visulaizing The Deviation in Actual & Predicted Values for Model 2:**"
      ]
    },
    {
      "cell_type": "code",
      "metadata": {
        "id": "ru2apJGUqErj",
        "colab_type": "code",
        "colab": {
          "base_uri": "https://localhost:8080/",
          "height": 367
        },
        "outputId": "4f11b053-81a7-44fc-a138-e41c4a2859bb"
      },
      "source": [
        "plt.figure(figsize=(8,5))\n",
        "sns.regplot('Predicted','Actual',data=check,line_kws={'color':'green'},scatter_kws={'color':'red'},marker='*')\n",
        "plt.title('Deviation In Actual v/s Predicted Values(Lasso)')"
      ],
      "execution_count": 232,
      "outputs": [
        {
          "output_type": "execute_result",
          "data": {
            "text/plain": [
              "Text(0.5, 1.0, 'Deviation In Actual v/s Predicted Values(Lasso)')"
            ]
          },
          "metadata": {
            "tags": []
          },
          "execution_count": 232
        },
        {
          "output_type": "display_data",
          "data": {
            "image/png": "[encoded data removed]",
            "text/plain": [
              "<Figure size 576x360 with 1 Axes>"
            ]
          },
          "metadata": {
            "tags": [],
            "needs_background": "light"
          }
        }
      ]
    },
    {
      "cell_type": "markdown",
      "metadata": {
        "id": "7Wb9QveB4x0S",
        "colab_type": "text"
      },
      "source": [
        "# **3. Using Ridge Regularization Model**"
      ]
    },
    {
      "cell_type": "code",
      "metadata": {
        "id": "DiEwA9fa1Lwe",
        "colab_type": "code",
        "colab": {
          "base_uri": "https://localhost:8080/",
          "height": 51
        },
        "outputId": "02bb9427-4f1b-4287-b8b7-b071bf597e2e"
      },
      "source": [
        "from sklearn.linear_model import Ridge\n",
        "\n",
        "model3=Ridge(alpha=1,random_state=0)\n",
        "model3.fit(X_train,y_train)"
      ],
      "execution_count": 233,
      "outputs": [
        {
          "output_type": "execute_result",
          "data": {
            "text/plain": [
              "Ridge(alpha=1, copy_X=True, fit_intercept=True, max_iter=None, normalize=False,\n",
              "      random_state=0, solver='auto', tol=0.001)"
            ]
          },
          "metadata": {
            "tags": []
          },
          "execution_count": 233
        }
      ]
    },
    {
      "cell_type": "markdown",
      "metadata": {
        "id": "whC00ju-55Ja",
        "colab_type": "text"
      },
      "source": [
        "# **Making Predictions using Model 3:**"
      ]
    },
    {
      "cell_type": "code",
      "metadata": {
        "id": "wFilst0e1a6w",
        "colab_type": "code",
        "colab": {}
      },
      "source": [
        "predictions3=model3.predict(X_valid)"
      ],
      "execution_count": 234,
      "outputs": []
    },
    {
      "cell_type": "markdown",
      "metadata": {
        "id": "KAs4MJNH6Agt",
        "colab_type": "text"
      },
      "source": [
        "# **Comparing Actual v/s Predicted Values In Model 3:**"
      ]
    },
    {
      "cell_type": "code",
      "metadata": {
        "id": "FPYNLypz1qcg",
        "colab_type": "code",
        "colab": {
          "base_uri": "https://localhost:8080/",
          "height": 204
        },
        "outputId": "1f7b6906-c615-4fe2-c9ec-4cefd7615b10"
      },
      "source": [
        "check=pd.DataFrame({'Actual':y_valid,'Predicted':predictions3})\n",
        "check['Deviation']=abs(check['Actual']-check['Predicted'])\n",
        "check"
      ],
      "execution_count": 235,
      "outputs": [
        {
          "output_type": "execute_result",
          "data": {
            "text/html": [
              "<div>\n",
              "<style scoped>\n",
              "    .dataframe tbody tr th:only-of-type {\n",
              "        vertical-align: middle;\n",
              "    }\n",
              "\n",
              "    .dataframe tbody tr th {\n",
              "        vertical-align: top;\n",
              "    }\n",
              "\n",
              "    .dataframe thead th {\n",
              "        text-align: right;\n",
              "    }\n",
              "</style>\n",
              "<table border=\"1\" class=\"dataframe\">\n",
              "  <thead>\n",
              "    <tr style=\"text-align: right;\">\n",
              "      <th></th>\n",
              "      <th>Actual</th>\n",
              "      <th>Predicted</th>\n",
              "      <th>Deviation</th>\n",
              "    </tr>\n",
              "  </thead>\n",
              "  <tbody>\n",
              "    <tr>\n",
              "      <th>5</th>\n",
              "      <td>20</td>\n",
              "      <td>17.181700</td>\n",
              "      <td>2.818300</td>\n",
              "    </tr>\n",
              "    <tr>\n",
              "      <th>2</th>\n",
              "      <td>27</td>\n",
              "      <td>33.894564</td>\n",
              "      <td>6.894564</td>\n",
              "    </tr>\n",
              "    <tr>\n",
              "      <th>19</th>\n",
              "      <td>69</td>\n",
              "      <td>75.185168</td>\n",
              "      <td>6.185168</td>\n",
              "    </tr>\n",
              "    <tr>\n",
              "      <th>16</th>\n",
              "      <td>30</td>\n",
              "      <td>27.012796</td>\n",
              "      <td>2.987204</td>\n",
              "    </tr>\n",
              "    <tr>\n",
              "      <th>11</th>\n",
              "      <td>62</td>\n",
              "      <td>60.438524</td>\n",
              "      <td>1.561476</td>\n",
              "    </tr>\n",
              "  </tbody>\n",
              "</table>\n",
              "</div>"
            ],
            "text/plain": [
              "    Actual  Predicted  Deviation\n",
              "5       20  17.181700   2.818300\n",
              "2       27  33.894564   6.894564\n",
              "19      69  75.185168   6.185168\n",
              "16      30  27.012796   2.987204\n",
              "11      62  60.438524   1.561476"
            ]
          },
          "metadata": {
            "tags": []
          },
          "execution_count": 235
        }
      ]
    },
    {
      "cell_type": "markdown",
      "metadata": {
        "id": "oNE9SzNw7eL3",
        "colab_type": "text"
      },
      "source": [
        "# **Visualizing The Deviation in Actual & Predicted Values for Model 3:**"
      ]
    },
    {
      "cell_type": "code",
      "metadata": {
        "id": "hoe46Ke97i2S",
        "colab_type": "code",
        "colab": {
          "base_uri": "https://localhost:8080/",
          "height": 367
        },
        "outputId": "a3e99e05-5e1d-4111-d400-80436fb71849"
      },
      "source": [
        "plt.figure(figsize=(8,5))\n",
        "sns.regplot('Predicted','Actual',data=check,line_kws={'color':'green'},scatter_kws={'color':'red'},marker='*')\n",
        "plt.title('Deviation In Actual v/s Predicted Values(Ridge)')"
      ],
      "execution_count": 236,
      "outputs": [
        {
          "output_type": "execute_result",
          "data": {
            "text/plain": [
              "Text(0.5, 1.0, 'Deviation In Actual v/s Predicted Values(Ridge)')"
            ]
          },
          "metadata": {
            "tags": []
          },
          "execution_count": 236
        },
        {
          "output_type": "display_data",
          "data": {
            "image/png": "[encoded data removed]",
            "text/plain": [
              "<Figure size 576x360 with 1 Axes>"
            ]
          },
          "metadata": {
            "tags": [],
            "needs_background": "light"
          }
        }
      ]
    },
    {
      "cell_type": "markdown",
      "metadata": {
        "id": "BnWZhdIb6Qpf",
        "colab_type": "text"
      },
      "source": [
        "# **Evaluating Model 3 Accuracy:**"
      ]
    },
    {
      "cell_type": "code",
      "metadata": {
        "id": "Y84a-mki1mAt",
        "colab_type": "code",
        "colab": {
          "base_uri": "https://localhost:8080/",
          "height": 51
        },
        "outputId": "bc956d42-00cd-4829-fa4f-4ae348d94d15"
      },
      "source": [
        "MAE3=mean_absolute_error(y_valid,predictions3)\n",
        "RMSE3=np.sqrt(mean_squared_error(y_valid,predictions3))\n",
        "print('Mean Absolute error in Model 3:',MAE3.round(2))\n",
        "print('Root Mean Squared Error in Model 3:',RMSE3.round(2))"
      ],
      "execution_count": 237,
      "outputs": [
        {
          "output_type": "stream",
          "text": [
            "Mean Absolute error in Model 3: 4.09\n",
            "Root Mean Squared Error in Model 3: 4.58\n"
          ],
          "name": "stdout"
        }
      ]
    },
    {
      "cell_type": "markdown",
      "metadata": {
        "id": "LCURJ1-u6la9",
        "colab_type": "text"
      },
      "source": [
        "# **4. Using ElasticNet Model**"
      ]
    },
    {
      "cell_type": "code",
      "metadata": {
        "id": "Gh2sBQ2J6kHU",
        "colab_type": "code",
        "colab": {
          "base_uri": "https://localhost:8080/",
          "height": 68
        },
        "outputId": "ccc29025-b77c-4f9b-f532-29077b7b4578"
      },
      "source": [
        "from sklearn.linear_model import ElasticNet\n",
        "model4=ElasticNet(alpha=1)\n",
        "model4.fit(X_train,y_train)"
      ],
      "execution_count": 238,
      "outputs": [
        {
          "output_type": "execute_result",
          "data": {
            "text/plain": [
              "ElasticNet(alpha=1, copy_X=True, fit_intercept=True, l1_ratio=0.5,\n",
              "           max_iter=1000, normalize=False, positive=False, precompute=False,\n",
              "           random_state=None, selection='cyclic', tol=0.0001, warm_start=False)"
            ]
          },
          "metadata": {
            "tags": []
          },
          "execution_count": 238
        }
      ]
    },
    {
      "cell_type": "markdown",
      "metadata": {
        "id": "ACGmXok76ut8",
        "colab_type": "text"
      },
      "source": [
        "# **Making Predictions Using Model 4:**"
      ]
    },
    {
      "cell_type": "code",
      "metadata": {
        "id": "1eQXI3mi6y0r",
        "colab_type": "code",
        "colab": {
          "base_uri": "https://localhost:8080/",
          "height": 34
        },
        "outputId": "5d5f3c1b-8db5-45d3-b400-bcf76a8f982c"
      },
      "source": [
        "predictions4=model4.predict(X_valid)\n",
        "predictions4"
      ],
      "execution_count": 239,
      "outputs": [
        {
          "output_type": "execute_result",
          "data": {
            "text/plain": [
              "array([19.939207  , 35.39865836, 73.59259703, 29.03300192, 59.95190465])"
            ]
          },
          "metadata": {
            "tags": []
          },
          "execution_count": 239
        }
      ]
    },
    {
      "cell_type": "markdown",
      "metadata": {
        "id": "ZXL039qZ64rK",
        "colab_type": "text"
      },
      "source": [
        "# **Comparing Actual v/s Predicted Values In Model 4:**"
      ]
    },
    {
      "cell_type": "code",
      "metadata": {
        "id": "_t6TlTsH7Oh3",
        "colab_type": "code",
        "colab": {
          "base_uri": "https://localhost:8080/",
          "height": 204
        },
        "outputId": "d2247728-3e1f-42d6-ffb5-9cde334dc188"
      },
      "source": [
        "check=pd.DataFrame({'Actual':y_valid,'Predicted':predictions4})\n",
        "check['Deviation']=abs(check['Actual']-check['Predicted'])\n",
        "check"
      ],
      "execution_count": 240,
      "outputs": [
        {
          "output_type": "execute_result",
          "data": {
            "text/html": [
              "<div>\n",
              "<style scoped>\n",
              "    .dataframe tbody tr th:only-of-type {\n",
              "        vertical-align: middle;\n",
              "    }\n",
              "\n",
              "    .dataframe tbody tr th {\n",
              "        vertical-align: top;\n",
              "    }\n",
              "\n",
              "    .dataframe thead th {\n",
              "        text-align: right;\n",
              "    }\n",
              "</style>\n",
              "<table border=\"1\" class=\"dataframe\">\n",
              "  <thead>\n",
              "    <tr style=\"text-align: right;\">\n",
              "      <th></th>\n",
              "      <th>Actual</th>\n",
              "      <th>Predicted</th>\n",
              "      <th>Deviation</th>\n",
              "    </tr>\n",
              "  </thead>\n",
              "  <tbody>\n",
              "    <tr>\n",
              "      <th>5</th>\n",
              "      <td>20</td>\n",
              "      <td>19.939207</td>\n",
              "      <td>0.060793</td>\n",
              "    </tr>\n",
              "    <tr>\n",
              "      <th>2</th>\n",
              "      <td>27</td>\n",
              "      <td>35.398658</td>\n",
              "      <td>8.398658</td>\n",
              "    </tr>\n",
              "    <tr>\n",
              "      <th>19</th>\n",
              "      <td>69</td>\n",
              "      <td>73.592597</td>\n",
              "      <td>4.592597</td>\n",
              "    </tr>\n",
              "    <tr>\n",
              "      <th>16</th>\n",
              "      <td>30</td>\n",
              "      <td>29.033002</td>\n",
              "      <td>0.966998</td>\n",
              "    </tr>\n",
              "    <tr>\n",
              "      <th>11</th>\n",
              "      <td>62</td>\n",
              "      <td>59.951905</td>\n",
              "      <td>2.048095</td>\n",
              "    </tr>\n",
              "  </tbody>\n",
              "</table>\n",
              "</div>"
            ],
            "text/plain": [
              "    Actual  Predicted  Deviation\n",
              "5       20  19.939207   0.060793\n",
              "2       27  35.398658   8.398658\n",
              "19      69  73.592597   4.592597\n",
              "16      30  29.033002   0.966998\n",
              "11      62  59.951905   2.048095"
            ]
          },
          "metadata": {
            "tags": []
          },
          "execution_count": 240
        }
      ]
    },
    {
      "cell_type": "markdown",
      "metadata": {
        "id": "G38D91dz-KGP",
        "colab_type": "text"
      },
      "source": [
        "# **Visualizing The Deviation in Actual & Predicted Values for Model 4:**"
      ]
    },
    {
      "cell_type": "code",
      "metadata": {
        "id": "SQXm-rG17sPO",
        "colab_type": "code",
        "colab": {
          "base_uri": "https://localhost:8080/",
          "height": 367
        },
        "outputId": "1f35a698-ebac-41d3-de3b-82fe2ff7119e"
      },
      "source": [
        "plt.figure(figsize=(8,5))\n",
        "sns.regplot('Predicted','Actual',data=check,line_kws={'color':'green'},scatter_kws={'color':'red'},marker='*')\n",
        "plt.title('Deviation In Actual v/s Predicted Values(ElasticNet)')"
      ],
      "execution_count": 241,
      "outputs": [
        {
          "output_type": "execute_result",
          "data": {
            "text/plain": [
              "Text(0.5, 1.0, 'Deviation In Actual v/s Predicted Values(ElasticNet)')"
            ]
          },
          "metadata": {
            "tags": []
          },
          "execution_count": 241
        },
        {
          "output_type": "display_data",
          "data": {
            "image/png": "[encoded data removed]",
            "text/plain": [
              "<Figure size 576x360 with 1 Axes>"
            ]
          },
          "metadata": {
            "tags": [],
            "needs_background": "light"
          }
        }
      ]
    },
    {
      "cell_type": "markdown",
      "metadata": {
        "id": "eWXHkj-4BvyW",
        "colab_type": "text"
      },
      "source": [
        "# **Evaluating Model 4 Accuracy:**"
      ]
    },
    {
      "cell_type": "code",
      "metadata": {
        "id": "-uv1SePzBw84",
        "colab_type": "code",
        "colab": {
          "base_uri": "https://localhost:8080/",
          "height": 51
        },
        "outputId": "f7706cef-0907-43bd-e771-46eac25493da"
      },
      "source": [
        "MAE4=mean_absolute_error(y_valid,predictions4)\n",
        "RMSE4=np.sqrt(mean_squared_error(y_valid,predictions4))\n",
        "print('Mean Absolute error in Model 4:',MAE4.round(2))\n",
        "print('Root Mean Squared Error in Model 4:',RMSE4.round(2))"
      ],
      "execution_count": 242,
      "outputs": [
        {
          "output_type": "stream",
          "text": [
            "Mean Absolute error in Model 4: 3.21\n",
            "Root Mean Squared Error in Model 4: 4.4\n"
          ],
          "name": "stdout"
        }
      ]
    },
    {
      "cell_type": "markdown",
      "metadata": {
        "id": "yfjAPXLj8h3v",
        "colab_type": "text"
      },
      "source": [
        "# **Comparing All The Models' Predicted Values with Actual Values Together:**"
      ]
    },
    {
      "cell_type": "code",
      "metadata": {
        "id": "jmMb-7W4QKBw",
        "colab_type": "code",
        "colab": {
          "base_uri": "https://localhost:8080/",
          "height": 204
        },
        "outputId": "acb5803a-a4a5-4bff-eeed-e99f49e891f0"
      },
      "source": [
        "final=pd.DataFrame()\n",
        "errs=[MAE1,MAE2,MAE3]\n",
        "final['Valid']=y_valid\n",
        "final['LinearRegression']=predictions1\n",
        "final['Lasso']=predictions2\n",
        "final['Ridge']=predictions3\n",
        "final['ElasticNet']=predictions4\n",
        "\n",
        "final.head()"
      ],
      "execution_count": 243,
      "outputs": [
        {
          "output_type": "execute_result",
          "data": {
            "text/html": [
              "<div>\n",
              "<style scoped>\n",
              "    .dataframe tbody tr th:only-of-type {\n",
              "        vertical-align: middle;\n",
              "    }\n",
              "\n",
              "    .dataframe tbody tr th {\n",
              "        vertical-align: top;\n",
              "    }\n",
              "\n",
              "    .dataframe thead th {\n",
              "        text-align: right;\n",
              "    }\n",
              "</style>\n",
              "<table border=\"1\" class=\"dataframe\">\n",
              "  <thead>\n",
              "    <tr style=\"text-align: right;\">\n",
              "      <th></th>\n",
              "      <th>Valid</th>\n",
              "      <th>LinearRegression</th>\n",
              "      <th>Lasso</th>\n",
              "      <th>Ridge</th>\n",
              "      <th>ElasticNet</th>\n",
              "    </tr>\n",
              "  </thead>\n",
              "  <tbody>\n",
              "    <tr>\n",
              "      <th>5</th>\n",
              "      <td>20</td>\n",
              "      <td>16.884145</td>\n",
              "      <td>17.489479</td>\n",
              "      <td>17.181700</td>\n",
              "      <td>19.939207</td>\n",
              "    </tr>\n",
              "    <tr>\n",
              "      <th>2</th>\n",
              "      <td>27</td>\n",
              "      <td>33.732261</td>\n",
              "      <td>34.062443</td>\n",
              "      <td>33.894564</td>\n",
              "      <td>35.398658</td>\n",
              "    </tr>\n",
              "    <tr>\n",
              "      <th>19</th>\n",
              "      <td>69</td>\n",
              "      <td>75.357018</td>\n",
              "      <td>75.007413</td>\n",
              "      <td>75.185168</td>\n",
              "      <td>73.592597</td>\n",
              "    </tr>\n",
              "    <tr>\n",
              "      <th>16</th>\n",
              "      <td>30</td>\n",
              "      <td>26.794801</td>\n",
              "      <td>27.238282</td>\n",
              "      <td>27.012796</td>\n",
              "      <td>29.033002</td>\n",
              "    </tr>\n",
              "    <tr>\n",
              "      <th>11</th>\n",
              "      <td>62</td>\n",
              "      <td>60.491033</td>\n",
              "      <td>60.384210</td>\n",
              "      <td>60.438524</td>\n",
              "      <td>59.951905</td>\n",
              "    </tr>\n",
              "  </tbody>\n",
              "</table>\n",
              "</div>"
            ],
            "text/plain": [
              "    Valid  LinearRegression      Lasso      Ridge  ElasticNet\n",
              "5      20         16.884145  17.489479  17.181700   19.939207\n",
              "2      27         33.732261  34.062443  33.894564   35.398658\n",
              "19     69         75.357018  75.007413  75.185168   73.592597\n",
              "16     30         26.794801  27.238282  27.012796   29.033002\n",
              "11     62         60.491033  60.384210  60.438524   59.951905"
            ]
          },
          "metadata": {
            "tags": []
          },
          "execution_count": 243
        }
      ]
    },
    {
      "cell_type": "markdown",
      "metadata": {
        "id": "7hLalc5B8zed",
        "colab_type": "text"
      },
      "source": [
        "# **Visualizing The Variation In Predicted v/s Actual Values Model-Wise:(In Order To Decide Final Model!)**"
      ]
    },
    {
      "cell_type": "code",
      "metadata": {
        "id": "M_MZ1_UsVdVy",
        "colab_type": "code",
        "colab": {
          "base_uri": "https://localhost:8080/",
          "height": 1000
        },
        "outputId": "c1203f94-daac-4528-a3cf-bcb982bc315a"
      },
      "source": [
        "N=np.arange(5)\n",
        "plt.bar(N+0.35,y_valid,width=0.35,label='Actual',color='red')\n",
        "plt.bar(N,predictions1,width=0.35,label='Linear Regression',color='purple')\n",
        "plt.ylabel('Scores')\n",
        "plt.title('Variation In Prediction & Actual Values(Linear Regression Model)\\nMAE: {}\\nRMSE: {}'.format(MAE1.round(2),RMSE1.round(2)))\n",
        "plt.legend(loc='best')\n",
        "plt.show()\n",
        "\n",
        "plt.bar(N+0.35,y_valid,width=0.35,label='Actual',color='red')\n",
        "plt.bar(N,predictions2,width=0.35,label='Lasso',color='pink')\n",
        "plt.title('Variation In Prediction & Actual(Lasso)\\nMAE: {}\\nRMSE: {}'.format(MAE2.round(2),RMSE2.round(2)))\n",
        "plt.ylabel('Scores')\n",
        "plt.legend(loc='best')\n",
        "plt.show()\n",
        "\n",
        "\n",
        "plt.bar(N+0.35,y_valid,width=0.35,label='Actual',color='red')\n",
        "plt.bar(N,predictions3,width=0.35,label='Ridge')\n",
        "plt.ylabel('Scores')\n",
        "plt.title('Variation In Prediction & Actual Values(Ridge)\\nMAE: {}\\nRMSE: {}'.format(MAE3.round(2),RMSE3.round(2)))\n",
        "plt.legend(loc='best')\n",
        "plt.show()\n",
        "\n",
        "plt.bar(N+0.35,y_valid,width=0.35,label='Actual',color='red')\n",
        "plt.bar(N,predictions3,width=0.35,label='ElasticNet',color='yellow')\n",
        "plt.ylabel('Scores')\n",
        "plt.title('Variation In Prediction & Actual Values(ElasticNet)\\nMAE: {}\\nRMSE: {}'.format(MAE4.round(2),RMSE4.round(2)))\n",
        "plt.legend(loc='best')\n",
        "plt.show()"
      ],
      "execution_count": 244,
      "outputs": [
        {
          "output_type": "display_data",
          "data": {
            "image/png": "[encoded data removed]",
            "text/plain": [
              "<Figure size 432x288 with 1 Axes>"
            ]
          },
          "metadata": {
            "tags": [],
            "needs_background": "light"
          }
        },
        {
          "output_type": "display_data",
          "data": {
            "image/png": "[encoded data removed]",
            "text/plain": [
              "<Figure size 432x288 with 1 Axes>"
            ]
          },
          "metadata": {
            "tags": [],
            "needs_background": "light"
          }
        },
        {
          "output_type": "display_data",
          "data": {
            "image/png": "[encoded data removed]",
            "text/plain": [
              "<Figure size 432x288 with 1 Axes>"
            ]
          },
          "metadata": {
            "tags": [],
            "needs_background": "light"
          }
        },
        {
          "output_type": "display_data",
          "data": {
            "image/png": "[encoded data removed]",
            "text/plain": [
              "<Figure size 432x288 with 1 Axes>"
            ]
          },
          "metadata": {
            "tags": [],
            "needs_background": "light"
          }
        }
      ]
    },
    {
      "cell_type": "markdown",
      "metadata": {
        "id": "5OjslUML8-k5",
        "colab_type": "text"
      },
      "source": [
        "**Clearly, Model 4 is giving the relatively most accurate output. So, We Finalize Model 4!**"
      ]
    },
    {
      "cell_type": "markdown",
      "metadata": {
        "id": "TovrrY9hDDiD",
        "colab_type": "text"
      },
      "source": [
        "# **Here, You can enter the no. of hours of study to check the estimated corresponding score! Keep Learning :)**"
      ]
    },
    {
      "cell_type": "code",
      "metadata": {
        "id": "QUG6H9Xi9xau",
        "colab_type": "code",
        "colab": {
          "base_uri": "https://localhost:8080/",
          "height": 51
        },
        "outputId": "ed5679f8-d327-43cf-e464-c0b3bc65835e"
      },
      "source": [
        "n=float(input())\n",
        "result=model4.predict([[n]])\n",
        "print(\"After studying for {} hours, The Expected Score Should be {}\".format(n,result.round(2)))"
      ],
      "execution_count": 245,
      "outputs": [
        {
          "output_type": "stream",
          "text": [
            "9.25\n",
            "After studying for 9.25 hours, The Expected Score Should be [90.42]\n"
          ],
          "name": "stdout"
        }
      ]
    }
  ]
}